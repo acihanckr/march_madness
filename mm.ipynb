{
 "cells": [
  {
   "cell_type": "code",
   "execution_count": 1,
   "metadata": {},
   "outputs": [],
   "source": [
    "import os\n",
    "import numpy as np\n",
    "import pandas as pd\n"
   ]
  },
  {
   "cell_type": "code",
   "execution_count": 2,
   "metadata": {},
   "outputs": [],
   "source": [
    "all_teams = pd.read_csv(\"mm_data\\MDataFiles_Stage1\\MTeams.csv\")\n",
    "reg_se_dt = pd.read_csv(\"mm_data\\MDataFiles_Stage1\\MRegularSeasonDetailedResults.csv\")\n",
    "tour_com = pd.read_csv(\"mm_data\\MDataFiles_Stage1\\MNCAATourneyCompactResults.csv\")"
   ]
  },
  {
   "cell_type": "code",
   "execution_count": 3,
   "metadata": {},
   "outputs": [],
   "source": [
    "def team_data_col(teamid, datas):\n",
    "    #this function takes an integer input which stands for team id and exports the data information of the given team.  \n",
    "    team_data = {'teamid' : teamid}\n",
    "    team_winning_data = datas[datas.WTeamID == teamid]\n",
    "    team_losing_data = datas[datas.WTeamID == teamid]\n",
    "    team_data['win'] = team_winning_data.shape[0]\n",
    "    team_data['los'] = team_winning_data.shape[0]\n",
    "    team_data['played'] = team_data['los'] + team_data['win']\n",
    "    n = team_data.get('played')\n",
    "    team_data['score_avg'] = (team_losing_data.LScore.sum() + team_winning_data.WScore.sum())/n\n",
    "    team_data['fgoal_avg'] = (team_winning_data.WFGM.sum() + team_losing_data.LFGM.sum())/n\n",
    "    team_data['fgoal_at_avg'] = (team_winning_data.WFGA.sum() + team_losing_data.LFGA.sum())/n\n",
    "    team_data['pointer_avg'] = (team_winning_data.WFGM3.sum() + team_losing_data.LFGM3.sum())/n\n",
    "    team_data['pointer_at_avg'] = (team_winning_data.WFGA3.sum() + team_losing_data.LFGA3.sum())/n\n",
    "    team_data['off_reb_avg'] = (team_winning_data.WOR.sum() + team_losing_data.LOR.sum())/n\n",
    "    team_data['def_reb_avg'] = (team_winning_data.WDR.sum() + team_losing_data.LDR.sum())/n\n",
    "    team_data['ast_avg'] = (team_winning_data.WAst.sum() + team_losing_data.LAst.sum())/n\n",
    "    team_data['turn_avg'] = (team_winning_data.WTO.sum() + team_losing_data.LTO.sum())/n\n",
    "    team_data['stl_avg'] = (team_winning_data.WStl.sum() + team_losing_data.LStl.sum())/n\n",
    "    team_data['block_avg'] = (team_winning_data.WBlk.sum() + team_losing_data.LBlk.sum())/n\n",
    "    team_data['foul_avg'] = (team_winning_data.WPF.sum() + team_losing_data.LPF.sum())/n\n",
    "    return team_data"
   ]
  },
  {
   "cell_type": "code",
   "execution_count": 4,
   "metadata": {
    "scrolled": true
   },
   "outputs": [
    {
     "name": "stderr",
     "output_type": "stream",
     "text": [
      "C:\\Users\\aciha\\Anaconda3\\lib\\site-packages\\ipykernel_launcher.py:10: RuntimeWarning: invalid value encountered in longlong_scalars\n",
      "  # Remove the CWD from sys.path while we load stuff.\n",
      "C:\\Users\\aciha\\Anaconda3\\lib\\site-packages\\ipykernel_launcher.py:11: RuntimeWarning: invalid value encountered in longlong_scalars\n",
      "  # This is added back by InteractiveShellApp.init_path()\n",
      "C:\\Users\\aciha\\Anaconda3\\lib\\site-packages\\ipykernel_launcher.py:12: RuntimeWarning: invalid value encountered in longlong_scalars\n",
      "  if sys.path[0] == '':\n",
      "C:\\Users\\aciha\\Anaconda3\\lib\\site-packages\\ipykernel_launcher.py:13: RuntimeWarning: invalid value encountered in longlong_scalars\n",
      "  del sys.path[0]\n",
      "C:\\Users\\aciha\\Anaconda3\\lib\\site-packages\\ipykernel_launcher.py:14: RuntimeWarning: invalid value encountered in longlong_scalars\n",
      "  \n",
      "C:\\Users\\aciha\\Anaconda3\\lib\\site-packages\\ipykernel_launcher.py:15: RuntimeWarning: invalid value encountered in longlong_scalars\n",
      "  from ipykernel import kernelapp as app\n",
      "C:\\Users\\aciha\\Anaconda3\\lib\\site-packages\\ipykernel_launcher.py:16: RuntimeWarning: invalid value encountered in longlong_scalars\n",
      "  app.launch_new_instance()\n",
      "C:\\Users\\aciha\\Anaconda3\\lib\\site-packages\\ipykernel_launcher.py:17: RuntimeWarning: invalid value encountered in longlong_scalars\n",
      "C:\\Users\\aciha\\Anaconda3\\lib\\site-packages\\ipykernel_launcher.py:18: RuntimeWarning: invalid value encountered in longlong_scalars\n",
      "C:\\Users\\aciha\\Anaconda3\\lib\\site-packages\\ipykernel_launcher.py:19: RuntimeWarning: invalid value encountered in longlong_scalars\n",
      "C:\\Users\\aciha\\Anaconda3\\lib\\site-packages\\ipykernel_launcher.py:20: RuntimeWarning: invalid value encountered in longlong_scalars\n",
      "C:\\Users\\aciha\\Anaconda3\\lib\\site-packages\\ipykernel_launcher.py:21: RuntimeWarning: invalid value encountered in longlong_scalars\n"
     ]
    }
   ],
   "source": [
    "year_list0 = reg_se_dt.Season.unique()\n",
    "year_list = []\n",
    "for i in year_list0:\n",
    "    year_list.append('year'+str(i))\n",
    "data_by_year = {}\n",
    "for i in range(len(year_list)):\n",
    "    year_name = year_list0[i]\n",
    "    reg_se_dt_yearly = reg_se_dt[reg_se_dt.Season == year_name]\n",
    "    teams0 = np.concatenate([reg_se_dt_yearly.WTeamID.unique(),reg_se_dt_yearly.LTeamID.unique()])\n",
    "    teams1 = np.unique(teams0)\n",
    "    teams2 = teams1.tolist()\n",
    "    all_teams_data = {}\n",
    "    for j in teams2:\n",
    "        all_teams_data[j] = team_data_col(j,reg_se_dt_yearly)\n",
    "    data_by_year[year_name] = all_teams_data\n"
   ]
  },
  {
   "cell_type": "code",
   "execution_count": 5,
   "metadata": {},
   "outputs": [],
   "source": [
    "tour_com = tour_com.query('Season >= 2003 & Season != 2019')"
   ]
  },
  {
   "cell_type": "code",
   "execution_count": 6,
   "metadata": {},
   "outputs": [],
   "source": [
    "games_df = pd.DataFrame(columns=['game_id', 'result', 'win_diff','loss_diff', 'played_diff', 'score_av_diff','fgoal_diff', 'fgoal_at_diff', 'pointer_diff','pointer_at_diff', 'off_reb_diff', 'def_reb_diff','ast_diff', 'turn_diff', 'stl_diff','block_diff', 'foul_diff'])\n",
    "for i in range(len(tour_com)):\n",
    "    year = tour_com.Season.iloc[i]\n",
    "    win_id = tour_com.WTeamID.iloc[i]\n",
    "    los_id = tour_com.LTeamID.iloc[i]\n",
    "    win_data = data_by_year.get(year).get(win_id)\n",
    "    loss_data = data_by_year.get(year).get(los_id)\n",
    "    dice = np.round_(np.random.random(),decimals = 0)\n",
    "    data_array = []\n",
    "    if dice == 0:\n",
    "        for key in win_data.keys():\n",
    "            data_array.append(loss_data[key]-win_data[key])\n",
    "        data_array[0] = 0    \n",
    "    elif dice == 1:\n",
    "        for key in win_data.keys():\n",
    "            data_array.append(win_data[key]-loss_data[key])\n",
    "        data_array[0] = 1\n",
    "    data_array.insert(0,i)\n",
    "    games_df.loc[len(games_df)] = data_array    "
   ]
  },
  {
   "cell_type": "code",
   "execution_count": 7,
   "metadata": {},
   "outputs": [],
   "source": [
    "games_data = games_df.drop(['game_id','result'], axis = 1)\n",
    "games_labels = games_df.result"
   ]
  },
  {
   "cell_type": "code",
   "execution_count": 8,
   "metadata": {
    "scrolled": true
   },
   "outputs": [
    {
     "data": {
      "text/plain": [
       "LogisticRegression(C=1, class_weight=None, dual=False, fit_intercept=True,\n",
       "                   intercept_scaling=1, l1_ratio=None, max_iter=1000,\n",
       "                   multi_class='multinomial', n_jobs=None, penalty='l2',\n",
       "                   random_state=None, solver='lbfgs', tol=0.0001, verbose=0,\n",
       "                   warm_start=False)"
      ]
     },
     "execution_count": 8,
     "metadata": {},
     "output_type": "execute_result"
    }
   ],
   "source": [
    "from sklearn.linear_model import LogisticRegression\n",
    "softmax_reg = LogisticRegression(multi_class = \"multinomial\", solver = \"lbfgs\", C = 1, max_iter = 1000)\n",
    "softmax_reg.fit(games_data, games_labels)"
   ]
  },
  {
   "cell_type": "code",
   "execution_count": 9,
   "metadata": {},
   "outputs": [],
   "source": [
    "tour_com_test = pd.read_csv(\"mm_data\\MDataFiles_Stage1\\MNCAATourneyCompactResults.csv\")\n",
    "tour_com_test = tour_com_test.query('Season == 2019')"
   ]
  },
  {
   "cell_type": "code",
   "execution_count": 10,
   "metadata": {},
   "outputs": [],
   "source": [
    "games_df_2019 = pd.DataFrame(columns=['game_id', 'result', 'win_diff','loss_diff', 'played_diff', 'score_av_diff','fgoal_diff', 'fgoal_at_diff', 'pointer_diff','pointer_at_diff', 'off_reb_diff', 'def_reb_diff','ast_diff', 'turn_diff', 'stl_diff','block_diff', 'foul_diff'])\n",
    "for i in range(len(tour_com_test)):\n",
    "    win_id = tour_com_test.WTeamID.iloc[i]\n",
    "    los_id = tour_com_test.LTeamID.iloc[i]\n",
    "    win_data = data_by_year.get(2019).get(win_id)\n",
    "    loss_data = data_by_year.get(2019).get(los_id)\n",
    "    data_array = []\n",
    "    for key in win_data.keys():\n",
    "        data_array.append(loss_data[key]-win_data[key])\n",
    "    data_array[0] = 0    \n",
    "    data_array.insert(0,i)\n",
    "    games_df_2019.loc[len(games_df_2019)] = data_array    "
   ]
  },
  {
   "cell_type": "code",
   "execution_count": 11,
   "metadata": {},
   "outputs": [],
   "source": [
    "games_df_2019_test = games_df_2019.drop(['game_id','result'], axis = 1)"
   ]
  },
  {
   "cell_type": "code",
   "execution_count": 12,
   "metadata": {},
   "outputs": [
    {
     "data": {
      "text/plain": [
       "0.26865671641791045"
      ]
     },
     "execution_count": 12,
     "metadata": {},
     "output_type": "execute_result"
    }
   ],
   "source": [
    "sum(softmax_reg.predict(games_df_2019_test))/len(games_df_2019_test)"
   ]
  }
 ],
 "metadata": {
  "kernelspec": {
   "display_name": "Python 3",
   "language": "python",
   "name": "python3"
  },
  "language_info": {
   "codemirror_mode": {
    "name": "ipython",
    "version": 3
   },
   "file_extension": ".py",
   "mimetype": "text/x-python",
   "name": "python",
   "nbconvert_exporter": "python",
   "pygments_lexer": "ipython3",
   "version": "3.7.3"
  }
 },
 "nbformat": 4,
 "nbformat_minor": 2
}
