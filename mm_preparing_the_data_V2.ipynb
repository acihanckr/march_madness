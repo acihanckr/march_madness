{
 "cells": [
  {
   "cell_type": "markdown",
   "metadata": {},
   "source": [
    "This notebook includes the data manipulation used to bring the data to the desired form. We would like to define a feature vector for each tournament game played after 2003 through 2018 (2003 and 2008 included). To this end we define a data frame where each row corresponds to a team for a given year which has the team id, the year team played with the following statistics: \n",
    "The number of the games the team won,\n",
    "the number of the games the team lost,\n",
    "average score per game,\n",
    "average field goal per game,\n",
    "the number of field goal attemp per game,\n",
    "the average 3 point scores per game,\n",
    "the number of 3 point attemps per game,\n",
    "the number of offensive rebounds per game,\n",
    "the number of defensive rebounds per game,\n",
    "the number of assists per game,\n",
    "the number of steals per game,\n",
    "the number of blocks per game,\n",
    "the number of personal fouls per game,\n",
    "average of the ranking of the team at the last day of the season,\n",
    "the ratio of wins at home games,\n",
    "the ratio of loose at home games,\n",
    "the ratio of win at away games,\n",
    "the ratio of loose at away games.\n",
    "If a team joined more than one season than the team will have a row for each year joined to the season.\n",
    "\n",
    "Then for a given game from the tournament at a particular year, we set either winner or loser team as Team 1 and the other one Team 2 randomly, substract the stats (from the regular season of the given year) of team 1 from team 2(team2-team1), set the difference as the feature vector, and if the team 1 wins we label the game 0 and if team 2 wins we label the game 1.\n",
    "\n",
    "Lastly, to be able to use this data more than once we record all the data to a csv file.\n",
    "\n",
    "Also, we repeat the same for the tournament games at 2019.\n",
    "\n",
    "Main objective is to train our model using the games from 2003 through 2018 and predict the results of the games of 2019 using the regular season features."
   ]
  },
  {
   "cell_type": "code",
   "execution_count": 2,
   "metadata": {},
   "outputs": [
    {
     "name": "stdout",
     "output_type": "stream",
     "text": [
      "Pixiedust database opened successfully\n"
     ]
    },
    {
     "data": {
      "text/html": [
       "\n",
       "        <div style=\"margin:10px\">\n",
       "            <a href=\"https://github.com/ibm-watson-data-lab/pixiedust\" target=\"_new\">\n",
       "                <img src=\"https://github.com/ibm-watson-data-lab/pixiedust/raw/master/docs/_static/pd_icon32.png\" style=\"float:left;margin-right:10px\"/>\n",
       "            </a>\n",
       "            <span>Pixiedust version 1.1.18</span>\n",
       "        </div>\n",
       "        "
      ],
      "text/plain": [
       "<IPython.core.display.HTML object>"
      ]
     },
     "metadata": {},
     "output_type": "display_data"
    }
   ],
   "source": [
    "import os\n",
    "import numpy as np\n",
    "import pandas as pd\n",
    "import pixiedust\n",
    "import sklearn as sk\n",
    "import csv\n"
   ]
  },
  {
   "cell_type": "markdown",
   "metadata": {},
   "source": [
    "We first import the necessary packages and the data. Data files should be placed in a folder name mm_data located at the same place with notebook."
   ]
  },
  {
   "cell_type": "code",
   "execution_count": 3,
   "metadata": {},
   "outputs": [],
   "source": [
    "all_teams = pd.read_csv(\"mm_data\\MDataFiles_Stage1\\MTeams.csv\")\n",
    "reg_se_dt = pd.read_csv(\"mm_data\\MDataFiles_Stage1\\MRegularSeasonDetailedResults.csv\")\n",
    "tour_com = pd.read_csv(\"mm_data\\MDataFiles_Stage1\\MNCAATourneyCompactResults.csv\")\n",
    "rankings = pd.read_csv(\"mm_data\\MDataFiles_Stage1\\MMasseyOrdinals.csv\")"
   ]
  },
  {
   "cell_type": "code",
   "execution_count": 4,
   "metadata": {},
   "outputs": [],
   "source": [
    "reg_se_cm = pd.read_csv(\"mm_data\\MDataFiles_Stage1\\MRegularSeasonCompactResults.csv\")\n",
    "reg_se_cm = reg_se_cm.query('Season >= 2003')"
   ]
  },
  {
   "cell_type": "markdown",
   "metadata": {},
   "source": [
    "The following function is used to calculate home-away statistics of a team."
   ]
  },
  {
   "cell_type": "code",
   "execution_count": 5,
   "metadata": {},
   "outputs": [],
   "source": [
    "def home_away(team_id,year,data):\n",
    "    #this function takes inputs a team id(int), a particular year(int) and a data(data frame). It returns the ratio of\n",
    "    #home wins to home games,and away wins to away games.\n",
    "    data_year = data.loc[data['Season'] == year]\n",
    "    #seperate the data of given year\n",
    "    team_wins_home = len(data_year[(data_year['WTeamID'] == team_id) & (data_year['WLoc'] =='H')])\n",
    "    team_los_home = len(data_year[(data_year['LTeamID'] == team_id) & (data_year['WLoc'] =='H')])\n",
    "    #count home wins and home loose\n",
    "    team_wins_away = len(data_year[(data_year['WTeamID'] == team_id) & (data_year['WLoc'] =='A')])\n",
    "    team_los_away = len(data_year[(data_year['LTeamID'] == team_id) & (data_year['WLoc'] =='A')])\n",
    "    #count home wins and home loose\n",
    "    #return the ratios\n",
    "    return team_wins_home/(team_wins_home+team_los_home), team_wins_away/(team_los_away+team_wins_away)"
   ]
  },
  {
   "cell_type": "markdown",
   "metadata": {},
   "source": [
    "The following function is used to find the rank average statistics of a given team."
   ]
  },
  {
   "cell_type": "code",
   "execution_count": 6,
   "metadata": {},
   "outputs": [],
   "source": [
    "def team_rank(year, teamid, data):\n",
    "    #this function takes input of year number, day number, ranking data and returns the ranking of the team at given year given date.\n",
    "    day_num =  data.loc[(data['Season'] == year) & (data['TeamID'] == teamid)].RankingDayNum.max()\n",
    "    #determine the last day which ranking information is given.\n",
    "    ranks = data.loc[(data['Season'] == year) & (data['TeamID'] == teamid) & (data['RankingDayNum'] == day_num), 'OrdinalRank']\n",
    "    #take the average of rankings at the given year in the last day and return the average for the given team.\n",
    "    return ranks.mean()"
   ]
  },
  {
   "cell_type": "markdown",
   "metadata": {},
   "source": [
    "The function defined below will be used in the next block to turn the detailed game data of seasons 2003 - 2018 into a dictionary. The function itself takes team id (id conventions are coming from the data set) and the dataset and returns several stats of given team as a data frame."
   ]
  },
  {
   "cell_type": "code",
   "execution_count": 23,
   "metadata": {},
   "outputs": [],
   "source": [
    "def team_data_col(teamid, datas):\n",
    "    #this function takes an integer input which stands for team id and exports the data information of the given team.  \n",
    "    team_data = {}\n",
    "    #create a dictionary to keep the statistics.\n",
    "    team_winning_data = datas[datas.WTeamID == teamid]\n",
    "    #take all the rows where the given team is winning team.\n",
    "    team_losing_data = datas[datas.WTeamID == teamid]\n",
    "    #take all the rows where the given team is losing team.\n",
    "    #Use team_winning_data and team_losing_data to count the stats of the team since every game a team played it is either \n",
    "    #the winner of the loser.\n",
    "    team_data['win'] = team_winning_data.shape[0]\n",
    "    team_data['los'] = team_winning_data.shape[0]\n",
    "    team_data['played'] = team_data['los'] + team_data['win']\n",
    "    n = team_data.get('played')\n",
    "    team_data['score_avg'] = (team_losing_data.LScore.sum() + team_winning_data.WScore.sum())/n\n",
    "    team_data['fgoal_avg'] = (team_winning_data.WFGM.sum() + team_losing_data.LFGM.sum())/n\n",
    "    team_data['fgoal_at_avg'] = (team_winning_data.WFGA.sum() + team_losing_data.LFGA.sum())/n\n",
    "    team_data['pointer_avg'] = (team_winning_data.WFGM3.sum() + team_losing_data.LFGM3.sum())/n\n",
    "    team_data['pointer_at_avg'] = (team_winning_data.WFGA3.sum() + team_losing_data.LFGA3.sum())/n\n",
    "    team_data['off_reb_avg'] = (team_winning_data.WOR.sum() + team_losing_data.LOR.sum())/n\n",
    "    team_data['def_reb_avg'] = (team_winning_data.WDR.sum() + team_losing_data.LDR.sum())/n\n",
    "    team_data['ast_avg'] = (team_winning_data.WAst.sum() + team_losing_data.LAst.sum())/n\n",
    "    team_data['turn_avg'] = (team_winning_data.WTO.sum() + team_losing_data.LTO.sum())/n\n",
    "    team_data['stl_avg'] = (team_winning_data.WStl.sum() + team_losing_data.LStl.sum())/n\n",
    "    team_data['block_avg'] = (team_winning_data.WBlk.sum() + team_losing_data.LBlk.sum())/n\n",
    "    team_data['foul_avg'] = (team_winning_data.WPF.sum() + team_losing_data.LPF.sum())/n\n",
    "    return team_data"
   ]
  },
  {
   "cell_type": "code",
   "execution_count": 26,
   "metadata": {},
   "outputs": [],
   "source": [
    "def games_data_col(years, games_data, source_data):\n",
    "    games_df = pd.DataFrame(columns=['game_id','result', 'win_diff','loss_diff', 'played_diff', 'score_av_diff','fgoal_diff', 'fgoal_at_diff', 'pointer_diff','pointer_at_diff', 'off_reb_diff', 'def_reb_diff','ast_diff', 'turn_diff', 'stl_diff','block_diff', 'foul_diff','rank1','rank2','home1', 'away1','home2', 'away2']) \n",
    "    active_games = games_data[games_data['Season'].isin(years)]\n",
    "    for i in range(len(active_games)):\n",
    "        #record the ids of winning and losing team.\n",
    "        #record the year of the game\n",
    "        year = active_games.Season.iloc[i]\n",
    "        win_id = active_games.WTeamID.iloc[i]\n",
    "        los_id = active_games.LTeamID.iloc[i]\n",
    "        active_source = source_data[source_data['Season'] == year]\n",
    "        #recover the data of winning and losing teams\n",
    "        win_data = team_data_col(win_id, active_source)\n",
    "        loss_data = team_data_col(los_id, active_source)\n",
    "        #decide which team will be called 1. If dice gives 0 then Team 1 is winning and Team 2 is losing.\n",
    "        #if dice gives 1 then Team 2 is winning and Team1 is winning\n",
    "        dice = np.round_(np.random.random(),decimals = 0)\n",
    "        #create data array for the game.\n",
    "        if dice == 0:\n",
    "            game_ide = str(win_id) +' vs '+ str(los_id)\n",
    "            data_array = [game_ide,0]\n",
    "            for key in win_data.keys():\n",
    "                data_array.append(loss_data[key]-win_data[key])\n",
    "            #add the difference of features of winning team and losing team to the data_array. Follow the convention Team2-Team1\n",
    "            data_array.append(team_rank(year,win_id,rankings))\n",
    "            data_array.append(team_rank(year,los_id,rankings))\n",
    "            win_home, win_away =  home_away(win_id,year,reg_se_cm)\n",
    "            los_home, los_away = home_away(los_id,year,reg_se_cm)\n",
    "            data_array = data_array + [win_home,win_away,los_home,los_away]            \n",
    "        elif dice == 1:\n",
    "            game_ide = str(los_id) + ' vs ' + str(win_id)\n",
    "            data_array = [game_ide,1]\n",
    "            for key in win_data.keys():\n",
    "                data_array.append(win_data[key]-loss_data[key])\n",
    "            data_array.append(team_rank(year,los_id,rankings))\n",
    "            data_array.append(team_rank(year,win_id,rankings))\n",
    "            win_home, win_away =  home_away(win_id,year,reg_se_cm)\n",
    "            los_home, los_away = home_away(los_id,year,reg_se_cm)\n",
    "            data_array = data_array + [los_home,los_away,win_home,win_away]\n",
    "        games_df.loc[len(games_df)] = data_array\n",
    "    return games_df"
   ]
  },
  {
   "cell_type": "code",
   "execution_count": 25,
   "metadata": {
    "scrolled": true
   },
   "outputs": [],
   "source": [
    "games_data = games_data_col(range(2003,2018),tour_com,reg_se_dt)\n",
    "games_data.to_csv('game_data_labels318.csv',index = False)"
   ]
  },
  {
   "cell_type": "code",
   "execution_count": 1,
   "metadata": {},
   "outputs": [],
   "source": [
    "with open('game_data_labels318.csv', 'r') as t1, open('game_data_w_labels318.csv', 'r') as t2:\n",
    "    fileone = t1.readlines()\n",
    "    filetwo = t2.readlines()\n",
    "\n",
    "with open('update.csv', 'w') as outFile:\n",
    "    for line in filetwo:\n",
    "        if line not in fileone:\n",
    "            outFile.write(line)\n",
    "t1.close()\n",
    "t2.close()"
   ]
  }
 ],
 "metadata": {
  "kernelspec": {
   "display_name": "Python 3",
   "language": "python",
   "name": "python3"
  },
  "language_info": {
   "codemirror_mode": {
    "name": "ipython",
    "version": 3
   },
   "file_extension": ".py",
   "mimetype": "text/x-python",
   "name": "python",
   "nbconvert_exporter": "python",
   "pygments_lexer": "ipython3",
   "version": "3.7.3"
  }
 },
 "nbformat": 4,
 "nbformat_minor": 2
}
